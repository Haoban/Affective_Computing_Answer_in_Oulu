{
 "cells": [
  {
   "cell_type": "markdown",
   "metadata": {},
   "source": [
    "# Affective Computing - Programming Assignment 2\n",
    "\n",
    "### Objective\n",
    "\n",
    "Your task is to extract a set of prosodic correlates (i.e. suprasegmental speech parameters) and cepstral features from speech recordings. Then, an emotion recognition system is constructed to recognize happy versus sad emotional speech (a quite easy two class problem) using a simple supervised classifier training and testing structure.\n",
    "\n",
    "The original speech data is a set of simulated emotional speech (i.e. acted) from ten speakers speaking five different pre-segmented sentences of roughly 2-3 seconds in two different emotional states (happy and sad) totaling 100 samples.\n",
    "Basic prosodic features (i.e. distribution parameters derived from the prosodic correlates) are extracted using a simple voiced/unvoiced analysis of speech, pitch tracker, and energy analysis. Another set of Mel-Frequency Cepstral Coefficients (MFCC) features are also calculated for comparison. \n",
    "\n",
    "To produce speaker independent and content dependent emotion recognition case (i.e. while a same persons samples are not included in both training and testing sets, the same sentences are spoken in both the training and the testing sets) that could correspond to a public user interface with specific commands.\n",
    "\n",
    "Support Vector Machine (SVM) classifiers are trained. A random subset of 1/2 of the available speech data (i.e. half of the persons) is used to train the emotion recognition system, first using a set of simple prosodic parameter features and then a classical set of MFCC derived features. The rest of the data (the other half of the persons) is then used to evaluate the performances of the trained recognition systems.\n",
    "\n",
    "<!--### Implementation\n",
    "<!---The data and toolbox files used in this exercise are:\n",
    "Study the toolbox functions (e.g. ‘getF0’, ‘melcepst’) and the generic MATLAB functions (e.g. ‘hamming’, ‘conv’, ‘resample’, ‘filter’, ‘mean’, ‘std’, ‘prctile’, ‘kurtosis’, ‘sum’, ‘length’, ‘linspace’, ‘trainsvm’, ‘svmclassify’, and ‘confusionmat’) as they are needed in the exercise.-->\n",
    "\n",
    "<!--Nine dictionaries are stored in the provided data file:-->\n",
    "\n",
    "<!--* speech_sample\n",
    "* testing_class \n",
    "* testing_data_mfcc \n",
    "* testing_data_proso \n",
    "* testing_personID \n",
    "* training_class \n",
    "* training_data_mfcc \n",
    "* training_data_proso \n",
    "* training_personID -->\n",
    "\n",
    "<!--To access one dictionary, using [`scipy.io`](https://docs.scipy.org/doc/scipy/reference/io.html) library for example: scipy.io.loadmat('filePath')['dictoionaryName']. **speech_sample** is used in the feature extraction part and the pre-extracted features in the emotion recognition part of this lab are **testing_class**, **testing_data_mfcc**, **testing_personID**, **training_class**, **training_data_mfcc**, **training_data_proso**, **training_personID**.-->\n"
   ]
  },
  {
   "cell_type": "markdown",
   "metadata": {},
   "source": [
    "## Task 0. Preparation\n",
    "Downsample the ‘speech_sample’ from the original Fs of 48 kHz to 11.025 kHz using [`scipy.signal.resample()`](https://docs.scipy.org/doc/scipy-0.16.0/reference/generated/scipy.signal.resample.html) function.\n",
    "\n",
    "**Steps**:\n",
    "1. Load data 'speech_sample' from file *lab2_data.mat*. It is better to make sure the sample is a 1-D time series.\n",
    "2. Declare the sampling frequency of the original signal, and your new sampling frequency.\n",
    "3. Resample the signal using [`scipy.signal.resample()`](https://docs.scipy.org/doc/scipy-0.16.0/reference/generated/scipy.signal.resample.html)\n",
    "4. Visualize the resampled signal. Please make a appropriate time vector as the x axis."
   ]
  },
  {
   "cell_type": "markdown",
   "metadata": {},
   "source": [
    "<!--### Task 0.1. Load Data\n",
    "Load the ‘speech_sample’ from the provided dataset containing a raw speech waveform and do the following (Note, the sampling rate (fs) of the sample speech signal is 48 kHz):-->"
   ]
  },
  {
   "cell_type": "code",
   "execution_count": 2,
   "metadata": {},
   "outputs": [
    {
     "data": {
      "text/plain": [
       "[<matplotlib.lines.Line2D at 0xa391208>]"
      ]
     },
     "execution_count": 2,
     "metadata": {},
     "output_type": "execute_result"
    },
    {
     "data": {
      "image/png": "[encoded data removed]",
      "text/plain": [
       "<Figure size 432x288 with 1 Axes>"
      ]
     },
     "metadata": {},
     "output_type": "display_data"
    }
   ],
   "source": [
    "import numpy as np\n",
    "import scipy.io as sio\n",
    "from scipy import signal\n",
    "import matplotlib.pyplot as plt\n",
    "\n",
    "# 1. Load the 'speech_sample'\n",
    "exerciseData = sio.loadmat('lab2_data.mat')\n",
    "speechSample = exerciseData['speech_sample'].reshape(-1)\n",
    "\n",
    "# print speechSample\n",
    "# 2. Declare the source sampling frequency, and the target sampling frequency.\n",
    "#    2.1 Source sampling frequency\n",
    "fs_source = 48000.0\n",
    "\n",
    "#    2.2 Target sampling frequency\n",
    "# Target frequency\n",
    "fs_down = 11025.0\n",
    "\n",
    "# 3. Downsample the speech sample\n",
    "speech_resampled = signal.resample(speechSample, np.round(len(speechSample) * fs_down / fs_source).astype('int'))\n",
    "\n",
    "# print speech_resampled\n",
    "# 4. Visualize the downsampled speech signal.\n",
    "#    4.1 Creating the corresponding time vector, whose length is same to the length to the given signal. \n",
    "#        You can use np.linspace() function to perform this. For example\n",
    "\n",
    "# print len(speechSample)\n",
    "\n",
    "timeVector = np.linspace(0,2.5,len(speech_resampled))\n",
    "# print timeVector\n",
    "\n",
    "#    4.2 Plot your result\n",
    "plt.plot(timeVector,speech_resampled)"
   ]
  },
  {
   "cell_type": "markdown",
   "metadata": {},
   "source": [
    "## Task 1. Feature Extraction"
   ]
  },
  {
   "cell_type": "markdown",
   "metadata": {},
   "source": [
    "### Task 1.1 MFCC calculations using the provided sample speech signal.\n",
    "\n",
    "**Steps**:\n",
    "1. Pre-emphasize the resampled signal by applying a high pass filter, using the [`scipy.signal.lfilter()`](https://docs.scipy.org/doc/scipy/reference/generated/scipy.signal.lfilter.html) function.\n",
    "   Apply a pre-emphasis filter $$ H(z) = 1-a \\times z^{-1} $$ with α=0.98 to emphasize higher frequencies in your downsampled speech signal (Tip: use [`scipy.signal.lfilter`](https://docs.scipy.org/doc/scipy-0.15.1/reference/generated/scipy.signal.lfilter.html)). \n",
    "   \n",
    "   Hint for defining the filter: you will provide two vectors **b** and **a** to define the filter, **a** for the denominator and **b** for the numerator. So finally your filter will be defined as $$H(z) = \\frac{b[0] z^0 + b[1] z^{-1} + ... + b[i] z^{-i}+...}{a[0] z^0 + a[1] z^{-1} + ... + a[i] z^{-i}+...}$$\n",
    "2. Extract the 12 mfcc coefficient by using the [`python_speech_features.mfcc()`](http://python-speech-features.readthedocs.io/en/latest/) function.\n",
    "    1. **The [`python_speech_features.mfcc()`](http://python-speech-features.readthedocs.io/en/latest/) function has its internal pre-emphasis functionality. However, we do the pre-emphasis beforehand in order to have a better understanding on it.**\n",
    "3. Visualize the 12 mfcc coefficient contours. Please also make the corresponding time vector as the x axis.\n",
    "4. Calculate the mean of each contour using [`numpy.mean(axis=)`](https://docs.scipy.org/doc/numpy/reference/generated/numpy.mean.html)."
   ]
  },
  {
   "cell_type": "code",
   "execution_count": 3,
   "metadata": {},
   "outputs": [
    {
     "name": "stdout",
     "output_type": "stream",
     "text": [
      "[ -2.16803659  -7.55293839 -11.45023659  -9.15052974  -4.9467118\n",
      " -18.90732587  -9.39367434  -0.93334243   1.59932744  -7.89636553\n",
      " -13.94829969  -0.62393599]\n"
     ]
    },
    {
     "data": {
      "image/png": "[encoded data removed]",
      "text/plain": [
       "<Figure size 432x288 with 1 Axes>"
      ]
     },
     "metadata": {},
     "output_type": "display_data"
    }
   ],
   "source": [
    "from scipy.signal import lfilter\n",
    "from python_speech_features import mfcc\n",
    "# 1. Pre-emphasize your resampled signal.\n",
    "#    1.1 Define the polynomial of your fitler\n",
    "#        filter coefficients b, which is the numerator\n",
    "#        filter coefficients a, which is the denominator\n",
    "\n",
    "# number = len(speechSample)\n",
    "\n",
    "a = [1]\n",
    "\n",
    "b = [1, -0.98]\n",
    "\n",
    "\n",
    "# print b\n",
    "\n",
    "#    1.2 Apply the filter on the signal\n",
    "preEmphasizedSample = lfilter(b, a, speech_resampled)\n",
    "\n",
    "# 2. Extract the mfcc coefficient by callying the mfcc() function\n",
    "     # remeber to set the pre-emphasize argument to 0 since the signal has been pre-emphasized.\n",
    "frameLen = int(2 ** np.floor(np.log2(0.03*fs_down)))\n",
    "mfccContour = mfcc(preEmphasizedSample, \\\n",
    "                   fs_down, \\\n",
    "                   winlen = float(frameLen)/fs_down, \\\n",
    "                   winstep = float(frameLen)/(2*fs_down), \\\n",
    "                   numcep = 12, \\\n",
    "                   preemph = 0)\n",
    "\n",
    "# 3. Plot the 12 mfcc contours\n",
    "#    3.1 Create the time vector for the MFCC contour. \n",
    "#        Again, using the np.linspace() function.\n",
    "#        However, please note the length of the resulted mfcc contour is different to the sample length.\n",
    "#        Thus, the length of your time vector here should be the length of the mfcc contour\n",
    "#        The ending point can be computed by the: a) number of mfcc samples, and b) time length of samples used\n",
    "#        for calculating one mfcc sample.\n",
    "#        \n",
    "#        For example, here we set the frame increment length is 128 samples, corresponding roughly to 11.6ms frames \n",
    "#        at Fs=11025Hz. So for inputs of the np.linspace() function, the ending point is mfccNum * 11.6ms around.\n",
    "\n",
    "mfccNum = len(mfccContour)\n",
    "\n",
    "# print frameLen\n",
    "# print mfccNum\n",
    "time = frameLen/fs_down *1000\n",
    "# print time\n",
    "tVector = np.linspace(0,2.5,mfccNum)\n",
    "\n",
    "#    3.2 Visualize your MFCC contour\n",
    "plt.plot(tVector,mfccContour)\n",
    "\n",
    "\n",
    "# 4. Calculate the mean for each contour.\n",
    "\n",
    "\n",
    "print np.mean(mfccContour, axis=0)\n"
   ]
  },
  {
   "cell_type": "markdown",
   "metadata": {},
   "source": [
    "### Question 1. Why do we need to pre-emphasize the speech signal before computing the MFCC feature?"
   ]
  },
  {
   "cell_type": "markdown",
   "metadata": {},
   "source": [
    "### Your answer:\n",
    "\n",
    "\n",
    "\n",
    "\n",
    "\n",
    "\n"
   ]
  },
  {
   "cell_type": "markdown",
   "metadata": {},
   "source": [
    "The goal of pre-emphasis is to compensate the high-frequency part that was suppressed during the sound production mechanism of humans. Moreover, it can also amplify the importance of high-frequency formants."
   ]
  },
  {
   "cell_type": "markdown",
   "metadata": {},
   "source": [
    "### Task 1.2 Extract the Intensity/Energy parameter\n",
    "Firstly, please calculate the short time energy (STE) of the downsampled ‘speech_sample’ using the squared signal $x(t)^2$ and a 0.01s hamming window frames (Note! the extra length of the window. Clip half a window length from the beginning and at the end). Then calculate 5 distribution parameter features from the utterance (the signal).\n",
    "\n",
    "\n",
    "**Steps**:\n",
    "1. Define a hamming window using the [`scipy.signal.hamming()`](https://docs.scipy.org/doc/scipy-0.19.0/reference/generated/scipy.signal.hamming.html) function. The window length is the number of frames in 0.01s.\n",
    "\n",
    "2. Apply the hamming window to convolve the squared signal, using the [`scipy.signal.convolve()`](https://docs.scipy.org/doc/scipy/reference/generated/scipy.signal.convolve.html) function. The convolution result is the short time energy (STE) controu.\n",
    "3. Clip half window of frames from the begining and ending of STE contour.\n",
    "4. Visualize the resulted STE controur. Please also include the time axis\n",
    "5. Calculating the following 5 distribution parameter feature from the STE contour:\n",
    "    1. Mean, using the [`numpy.mean(https://docs.scipy.org/doc/numpy-1.14.0/reference/generated/numpy.mean.html)`]() function.\n",
    "    2. Standard Deviation (SD), using the [`numpy.std()`](https://docs.scipy.org/doc/numpy-1.14.0/reference/generated/numpy.std.html) function.\n",
    "    3. 10% percentile, using the [`numpy.percentile()`](https://docs.scipy.org/doc/numpy-1.14.0/reference/generated/numpy.percentile.html) function.\n",
    "    4. 90% percentile, using the [`numpy.percentile()`](https://docs.scipy.org/doc/numpy-1.14.0/reference/generated/numpy.percentile.html) function.\n",
    "    5. Kurtosis, using the [`scipy.stats.kurtosis()`](https://docs.scipy.org/doc/scipy/reference/generated/scipy.stats.kurtosis.html) function.\n"
   ]
  },
  {
   "cell_type": "code",
   "execution_count": 12,
   "metadata": {},
   "outputs": [
    {
     "name": "stdout",
     "output_type": "stream",
     "text": [
      "[0.7478650778846414, 0.9053065294782028, 0.007381558338121589, 2.0824150050645764, 1.9362779208215812]\n"
     ]
    },
    {
     "data": {
      "image/png": "[encoded data removed]",
      "text/plain": [
       "<Figure size 432x288 with 1 Axes>"
      ]
     },
     "metadata": {},
     "output_type": "display_data"
    }
   ],
   "source": [
    "from scipy.stats import kurtosis\n",
    "# 1. Define a hamming window\n",
    "#    1.1 Calculate the window length, which the number of frames within 0.01s\n",
    "hammingLength = int(fs_down*0.01)\n",
    "\n",
    "#    1.2 Define the hamming window using signal.hamming()\n",
    "hammingWindow = signal.hamming(hammingLength)\n",
    "\n",
    "# print hammingWindow\n",
    "# print len(hammingWindow)\n",
    "# 2. Calculate the short time energy (STE) contour by convolve the hamming window and the squared signal, \n",
    "#    using the scipy.signal.convolve() function\n",
    "\n",
    "# arr = np.linspace(1,100,100)\n",
    "# sig = arr*arr/10000\n",
    "\n",
    "sig = speech_resampled * speech_resampled\n",
    "ste = signal.convolve(sig, hammingWindow)\n",
    "\n",
    "# print len(preEmphasizedSample)\n",
    "# print hammingWindow\n",
    "# print sig\n",
    "\n",
    "# 3. Clip half window of frames from both the beginning and end of the STE contour\n",
    "\n",
    "# print len(ste)\n",
    "\n",
    "# start = len(ste)*0.25\n",
    "# end = len(ste)*0.75\n",
    "# newste = ste[int(start):int(end)]\n",
    "newste = ste[hammingLength/2:-hammingLength/2]\n",
    "\n",
    "# print newste\n",
    "# 4. Visualize the final STE contour.\n",
    "#    4.1 Create the time vector for x-axis\n",
    "\n",
    "xVector = np.linspace(0,2.5,len(newste))\n",
    "\n",
    "#    4.2 Visualize the STE contour\n",
    "\n",
    "plt.plot(xVector,newste)\n",
    "\n",
    "# 5. Calculate the 5 distribution parameter feature the of STE contour\n",
    "Answer = [np.mean(newste),np.std(newste), np.percentile(newste,10), np.percentile(newste,90),kurtosis(newste)]\n",
    "\n",
    "print Answer\n"
   ]
  },
  {
   "cell_type": "markdown",
   "metadata": {},
   "source": [
    "### Question 2. Why do we need to clip out half a frame from both beginning and ending of the STE "
   ]
  },
  {
   "cell_type": "markdown",
   "metadata": {},
   "source": [
    "### Task 1.3. Extract the Pitch/F0 feature\n",
    "**Steps**:\n",
    "1. Extract the Pitch/F0 contour of the resampled speech signal using the **getF0()** function in 0.01s frames. The function is provided in the *f0Lib.py* file.\n",
    "2. Visualize the F0 contour (including the time axis).\n",
    "3. Extract the 5 distribution parameter features of the extracted F0 countour.\n",
    "\n"
   ]
  },
  {
   "cell_type": "code",
   "execution_count": 5,
   "metadata": {},
   "outputs": [
    {
     "name": "stdout",
     "output_type": "stream",
     "text": [
      "[51.76557834234848, 92.16529162886495, 0.0, 219.59546850800427, -0.32757516607828796]\n"
     ]
    },
    {
     "data": {
      "image/png": "[encoded data removed]",
      "text/plain": [
       "<Figure size 432x288 with 1 Axes>"
      ]
     },
     "metadata": {},
     "output_type": "display_data"
    }
   ],
   "source": [
    "import numpy as np\n",
    "import scipy.io as sio\n",
    "from scipy import signal\n",
    "import scipy\n",
    "from f0Lib import getF0\n",
    "\n",
    "# 1. Extract the F0 contour\n",
    "f0,_,T_ind,_ = getF0(speech_resampled, fs_down)\n",
    "\n",
    "\n",
    "# 2. Visualize the F0 contour\n",
    "#    2.1 The time vector can be acquired from the the third returned value of the getF0() function\n",
    "#        For example T_ind. The time vector can be computed by dividing the the first column of T_ind \n",
    "#        with the sampling frequency\n",
    "\n",
    "\n",
    "#    2.2 Visulize the F0 contour.\n",
    "x = T_ind[:,0]\n",
    "xvector = np.linspace(0,2.5,len(x))\n",
    "plt.plot(xvector,f0)\n",
    "\n",
    "\n",
    "# 3. Calculate these distribution parameter features\n",
    "Answer2 = [np.mean(f0),np.std(f0), np.percentile(f0,10), np.percentile(f0,90),kurtosis(f0)]\n",
    "\n",
    "print Answer2\n",
    "\n"
   ]
  },
  {
   "cell_type": "markdown",
   "metadata": {},
   "source": [
    "### Task 1.4. Extract the Rhythm/Durations parameter\n",
    "**Steps**:\n",
    "1. Perform a Voiced/Unvoiced speech segmentation of speech signal. Tip: Unvoiced frames are marked with 0 F0 values, you can find the voiced frames (i.e. F0 > 0) using [`numpy.where()`](https://docs.scipy.org/doc/numpy-1.14.0/reference/generated/numpy.where.html).\n",
    "2. From the segmentation, calculate the means and SDs of both Voiced and Unvoiced segment lengths (i.e. voiced segment mean length, SD of voiced segment lengths, unvoiced segment mean length, SD of unvoiced segment lengths).\n",
    "3. Calculate also the voicing ratio, i.e. the ratio of voiced segments versus total segments (Tip: You can do this simply by using the frames).\n",
    "\n"
   ]
  },
  {
   "cell_type": "code",
   "execution_count": 13,
   "metadata": {},
   "outputs": [
    {
     "name": "stdout",
     "output_type": "stream",
     "text": [
      "[20.333333333333332, 62.666666666666664, 8.73053390247253, 22.48456260538674, 0.24497991967871485]\n"
     ]
    }
   ],
   "source": [
    "# 1. Segmenting the voiced and unvoiced speech segements.\n",
    "#    1.1 Example on extracting voiced segment lengths\n",
    "framesInd_voiced = np.where(f0>0)[0]\n",
    "diff = framesInd_voiced[1:] - framesInd_voiced[0:-1]\n",
    "voiceToUnviceInd = np.where(diff > 1)[0]\n",
    "voice_seg_num = len(voiceToUnviceInd) + 1\n",
    "voice_seg_lengths = np.zeros(voice_seg_num)\n",
    "tmp = framesInd_voiced[0]\n",
    "\n",
    "for i in range(voice_seg_num - 1):\n",
    "    voice_seg_lengths[i] = framesInd_voiced[voiceToUnviceInd[i]] - tmp + 1\n",
    "    tmp = framesInd_voiced[voiceToUnviceInd[i] + 1]\n",
    "    \n",
    "voice_seg_lengths[-1] = framesInd_voiced[-1] - tmp + 1\n",
    "\n",
    "#####################################################################\n",
    "###################################################################\n",
    "#    1.2 Extract unvoiced segment lengths.\n",
    "\n",
    "framesInd_unvoiced = np.where(f0 <= 0)[0]\n",
    "diff2 = framesInd_unvoiced[1:] - framesInd_unvoiced[0:-1]\n",
    "unvoiceToUnviceInd = np.where(diff2 > 1)[0]\n",
    "unvoice_seg_num = len(unvoiceToUnviceInd) + 1\n",
    "unvoice_seg_lengths = np.zeros(unvoice_seg_num)\n",
    "tmp2 = framesInd_unvoiced[0]\n",
    "\n",
    "for i in range(unvoice_seg_num - 1):\n",
    "    unvoice_seg_lengths[i] = framesInd_unvoiced[unvoiceToUnviceInd[i]] - tmp2 + 1\n",
    "    tmp2 = framesInd_unvoiced[unvoiceToUnviceInd[i] + 1]\n",
    "    \n",
    "unvoice_seg_lengths[-1] = framesInd_unvoiced[-1] - tmp2 + 1\n",
    "\n",
    "\n",
    "# 2. Calculate the means and SDs of both Voiced and Unvoiced segment lengths\n",
    "ans_1 = np.mean(voice_seg_lengths)\n",
    "ans_2 = np.mean(unvoice_seg_lengths)\n",
    "ans_3 = np.std(voice_seg_lengths)\n",
    "ans_4 = np.std(unvoice_seg_lengths)\n",
    "\n",
    "\n",
    "\n",
    "# 3. Calculate the voicing ratio.\n",
    "\n",
    "\n",
    "voicing_ratio = float(len(framesInd_voiced))/float(len(framesInd_voiced)+len(framesInd_unvoiced))\n",
    "answer3 = [ans_1, ans_2, ans_3, ans_4, voicing_ratio]\n",
    "\n",
    "print answer3"
   ]
  },
  {
   "cell_type": "markdown",
   "metadata": {},
   "source": [
    "### Task 1.5. Check your extracted feature\n",
    "1. Print your calculated 12 MFCC coefficients.\n",
    "2. Print the distribution parameter feature of the STE contour.\n",
    "3. Print the distribution parameter feature of the F0 contour.\n",
    "4. Print the 5 prodosic features: **mean** and **std** of lengths of **voiced speeches** and **unvoiced speech**, as well as the **voicing ratio**. \n"
   ]
  },
  {
   "cell_type": "code",
   "execution_count": 14,
   "metadata": {},
   "outputs": [
    {
     "name": "stdout",
     "output_type": "stream",
     "text": [
      "[ -2.16803659  -7.55293839 -11.45023659  -9.15052974  -4.9467118\n",
      " -18.90732587  -9.39367434  -0.93334243   1.59932744  -7.89636553\n",
      " -13.94829969  -0.62393599]\n",
      "[0.7478650778846414, 0.9053065294782028, 0.007381558338121589, 2.0824150050645764, 1.9362779208215812]\n",
      "[51.76557834234848, 92.16529162886495, 0.0, 219.59546850800427, -0.32757516607828796]\n",
      "[20.333333333333332, 62.666666666666664, 8.73053390247253, 22.48456260538674, 0.24497991967871485]\n"
     ]
    }
   ],
   "source": [
    "# 1. Print the 12 MFCC coefficients\n",
    "print np.mean(mfccContour, axis=0)\n",
    "# 2. Print the distribution paremeter feature of the STE contour\n",
    "print Answer\n",
    "# 3. Print the distribution parameter feature of the F0 contour\n",
    "print Answer2\n",
    "# 3. Print the 5 prodosic features\n",
    "print answer3\n"
   ]
  },
  {
   "cell_type": "markdown",
   "metadata": {},
   "source": [
    "\n",
    "## Task 2. Speech Emotion Classification\n",
    "\n",
    "In this part, you we will the [`sklearn.svm`](http://scikit-learn.org/stable/modules/svm.html) library to perform the speech signal classification. The **‘training_data_proso’** and **‘training_data_mfcc’** matrixes contain the calculated prosodic features for the training set (9 features in each row representing a speech sample) and MFCC derived features (12 features) respectively. The **‘training_class’** group vector contains the class of samples: 1 = happy, 2 = sad; corresponding to the rows of the training data matrices.\n",
    "\n",
    "In this part, you will get familiar to three kinds of classifiers, namely the SVM classifier, the Random Forest classifier, and the Neural Network classifer (a multi-layer perceptron).\n",
    "\n",
    "<!---\n",
    "Test the classifiers and plot confusion matrices.\n",
    "* Use the ‘svmclassify’ function (and your trained SVM structures) to classify the ‘training_data_*’ and the ‘testing_data_*’ data matrices. Then, calculate average classification performances for both training and testing data. The correct class labels corresponding with the rows of the training and testing data matrices are in the variables ‘training_class’ and ‘testing_class’, respectively.\n",
    "    * \tCalculate the average classification performances for the training data (‘training_data_proso’ and ‘training_data_mfcc’) using the corresponding prosody and MFCC trained SVMs.\n",
    "    * \tCalculate the average classification performance for the testing data (‘testing_data_proso’ and testing_data_mfcc’) using the corresponding prosody and MFCC trained SVMs.\n",
    "* Plot confusion matrices for the training and testing data for both classifiers. Tip, use ‘confusionmat’ function.-->\n",
    "\n"
   ]
  },
  {
   "cell_type": "markdown",
   "metadata": {},
   "source": [
    "<!---speech_sample\n",
    "testing_class\n",
    "testing_data_mfcc\n",
    "testing_data_proso\n",
    "testing_personID\n",
    "training_class\n",
    "training_data_mfcc\n",
    "training_data_proso\n",
    "training_personID\n",
    "### Task 2.1. Preparing your data\n",
    "Dictionaries of the data are listed below:\n",
    "* speech_sample\n",
    "* testing_class\n",
    "* testing_data_mfcc\n",
    "* testing_data_proso\n",
    "* testing_personID\n",
    "* training_class\n",
    "* training_data_mfcc\n",
    "* training_data_proso\n",
    "* training_personID\n",
    "Use [`scipy.io.loadmat()`] to read the dataset.-->"
   ]
  },
  {
   "cell_type": "markdown",
   "metadata": {},
   "source": [
    "### Task 2.1. Train and evaluate your SVM classifiers\n",
    "**Steps**:\n",
    "1. Load training data.\n",
    "2. Train a SVM with the prosody data using the **‘training_data_proso’** features and a **3rd order polynomial** kernel.\n",
    "3. Train a SVM with the MFCC data using the **‘training_data_mfcc’** features and a **3rd order polynomial** kernel.\n",
    "4. Load testing data\n",
    "5. Calculate the average classification accuracy for the training data (**‘training_data_proso’** and **‘training_data_mfcc’**) using the corresponding prosody and MFCC trained SVMs.\n",
    "6. Calculate the average classification accuracy for the testing data (**‘testing_data_proso’** and **‘testing_data_mfcc’**) using the corresponding prosody and MFCC trained SVMs.\n",
    "7. Print the four accuracies you have calculated.\n",
    "8. Plot confusion matrices for the training and testing data for both classifiers."
   ]
  },
  {
   "cell_type": "code",
   "execution_count": 8,
   "metadata": {},
   "outputs": [
    {
     "name": "stdout",
     "output_type": "stream",
     "text": [
      "1.0\n",
      "0.96\n",
      "0.84\n",
      "0.86\n",
      "[[25  0]\n",
      " [ 0 25]] \n",
      "[[23  2]\n",
      " [ 0 25]] \n",
      "[[21  4]\n",
      " [ 4 21]] \n",
      "[[22  3]\n",
      " [ 4 21]]\n"
     ]
    }
   ],
   "source": [
    "# Initialzing your SVM classifiers.\n",
    "from sklearn import svm\n",
    "from sklearn.metrics import confusion_matrix\n",
    "from sklearn.metrics import accuracy_score\n",
    "\n",
    "# 1. Load data\n",
    "exerciseData = sio.loadmat('lab2_data.mat')\n",
    "\n",
    "#    1.1 Load 'training_data_proso'\n",
    "training_data_proso = exerciseData['training_data_proso']\n",
    "\n",
    "#    1.2 Load 'training_data_mfcc'\n",
    "training_data_mfcc = exerciseData['training_data_mfcc']\n",
    "\n",
    "\n",
    "#    1.3 Load 'training_class'\n",
    "training_class = exerciseData['training_class'].reshape(-1)\n",
    "\n",
    "\n",
    "# 2. Train your classifier using the prodosic data\n",
    "#    2.1 Initialize your svm classifer\n",
    "clf_proso = svm.SVC(degree=3, kernel='poly', cache_size = 5000)\n",
    "\n",
    "#    2.2 Train you classifier\n",
    "clf_proso.fit(training_data_proso, training_class) \n",
    "\n",
    "# 3. Train your classifer using the mfcc data\n",
    "#    3.1 Initialize your svm classifer\n",
    "clf_mfcc = svm.SVC(degree=3, kernel='poly', cache_size = 5000)\n",
    "\n",
    "#    3.2 Train you classifier\n",
    "clf_mfcc.fit(training_data_mfcc, training_class) \n",
    "\n",
    "# 4. Load testing data\n",
    "testing_data_mfcc = exerciseData['testing_data_mfcc']\n",
    "testing_data_proso = exerciseData['testing_data_proso']\n",
    "testing_class = exerciseData['testing_class'].reshape(-1)\n",
    "\n",
    "# 5. Calculate the average classification performances for the training data\n",
    "\n",
    "\n",
    "prediction_proso_train = clf_proso.predict(training_data_proso)\n",
    "# proso_train_trans = np.transpose(training_data_proso)\n",
    "# proso_train_trans1 = proso_train_trans[0]\n",
    "# acc_p_tr = accuracy_score(proso_train_trans1, prediction_proso_train)\n",
    "\n",
    "prediction_mfcc_train = clf_mfcc.predict(training_data_mfcc)\n",
    "# mfcc_train_trans = np.transpose(training_data_mfcc)\n",
    "# mfcc_train_trans1 = mfcc_train_trans[0]\n",
    "# acc_m_tr = accuracy_score(mfcc_train_trans1, prediction_mfcc_train)\n",
    "mfcc_T = 0.\n",
    "proso_T = 0.\n",
    "for i in range(len(training_data_proso)):\n",
    "    if prediction_proso_train[i]==training_class[i]:\n",
    "        proso_T+=1  \n",
    "    if prediction_mfcc_train[i]==training_class[i]:\n",
    "        mfcc_T+=1\n",
    "acc_p_tr = proso_T/len(training_class)\n",
    "acc_m_tr  = mfcc_T/len(training_class)\n",
    "\n",
    "\n",
    "\n",
    "\n",
    "# 6. Calculate the average classification performance for the testing data\n",
    "\n",
    "prediction_proso_test = clf_proso.predict(testing_data_proso)\n",
    "# proso_train_trans = np.transpose(training_data_proso)\n",
    "# proso_train_trans1 = label_train_trans[0]\n",
    "# acc_p_te = accuracy_score(proso_train_trans1, prediction_proso_train)\n",
    "prediction_mfcc_test = clf_mfcc.predict(testing_data_mfcc)\n",
    "\n",
    "mfcc_E = 0.\n",
    "proso_E = 0.\n",
    "for i in range(len(testing_data_proso)):\n",
    "    if prediction_proso_test[i]==testing_class[i]:\n",
    "        proso_E+=1  \n",
    "    if prediction_mfcc_test[i]==testing_class[i]:\n",
    "        mfcc_E+=1\n",
    "acc_p_te = proso_E/len(testing_class)\n",
    "acc_m_te  = mfcc_E/len(testing_class)\n",
    "\n",
    "\n",
    "# 7. Print the four accuracies.\n",
    "\n",
    "print acc_p_tr   # accuracy on the prosodic training data \n",
    "print acc_m_tr   # accuracy on the mfcc training data \n",
    "print acc_p_te   # accuracy on the prosodic testing data \n",
    "print acc_m_te   # accuracy on the mfcc testing data \n",
    " \n",
    "\n",
    "# 8. Visulize the confusion matrix\n",
    "from sklearn.metrics import confusion_matrix \n",
    "\n",
    "conf_matrix_train_proso = confusion_matrix(training_class, prediction_proso_train)\n",
    "conf_matrix_train_mfcc = confusion_matrix(training_class, prediction_mfcc_train)\n",
    "conf_matrix_test_proso = confusion_matrix(testing_class, prediction_proso_test)\n",
    "conf_matrix_test_mfcc = confusion_matrix(testing_class, prediction_mfcc_test)\n",
    "print conf_matrix_train_proso,'\\n', conf_matrix_train_mfcc,'\\n', conf_matrix_test_proso,\\\n",
    "     '\\n', conf_matrix_test_mfcc\n"
   ]
  },
  {
   "cell_type": "markdown",
   "metadata": {},
   "source": [
    "<!--### Task 2.2. Test your classifiers\n",
    "Classify the **‘training_data_*’** and the **‘testing_data_*’** data matrices. Then, calculate average classification performances for both training and testing data. The correct class labels corresponding with the rows of the training and testing data matrices are in the variables ‘training_class’ and ‘testing_class’, respectively.\n",
    "**Steps**:-->\n"
   ]
  },
  {
   "cell_type": "markdown",
   "metadata": {},
   "source": [
    "<!--### Task 2.3. Plot confusion matrices for the training and testing data for both classifiers. \n",
    "Print following confusion matrix(Tip, use [`sklearn.metrics.confusion_matrix`](http://scikit-learn.org/stable/modules/generated/sklearn.metrics.confusion_matrix.html) function):\n",
    "* The confusion matrix of the prosody trained SVM using the **‘training_data_proso’**.\n",
    "* The confusion matrix of the prosody trained SVM using the **‘testing_data_proso’**.\n",
    "* The confusion matrix of the MFCC trained SVM using the **‘training_data_mfcc’**.\n",
    "* The confusion matrix of the MFCC trained SVM using the **‘testing_data_mfcc’**.-->"
   ]
  },
  {
   "cell_type": "code",
   "execution_count": null,
   "metadata": {},
   "outputs": [],
   "source": []
  },
  {
   "cell_type": "markdown",
   "metadata": {},
   "source": [
    "### Task 2.2 Train and evaluate a Random Forest Classifier\n",
    "Please train one Random Forest classifer for each of the Prosodic and MFCC feature using the [`sklearn.ensemble.RandomForestClassifier()`](http://scikit-learn.org/stable/modules/generated/sklearn.ensemble.RandomForestClassifier.html), and print the classification accuracies and confusion matrices."
   ]
  },
  {
   "cell_type": "code",
   "execution_count": 9,
   "metadata": {},
   "outputs": [
    {
     "name": "stdout",
     "output_type": "stream",
     "text": [
      "1.0\n",
      "0.98\n",
      "0.84\n",
      "0.82\n",
      "[[25  0]\n",
      " [ 0 25]] \n",
      "[[24  1]\n",
      " [ 0 25]] \n",
      "[[20  5]\n",
      " [ 3 22]] \n",
      "[[21  4]\n",
      " [ 5 20]]\n"
     ]
    }
   ],
   "source": [
    "from sklearn.ensemble import RandomForestClassifier\n",
    "from sklearn.metrics import confusion_matrix\n",
    "\n",
    "# 1. Train your classifier using the prodosic data\n",
    "#    1.1 Initialize your random forest classifer\n",
    "RFclf_proso = RandomForestClassifier(n_estimators=100, max_depth=2,random_state=1)\n",
    "\n",
    "#    1.2 Train you classifier\n",
    "RFclf_proso.fit(training_data_proso, training_class) \n",
    "\n",
    "# 2. Train your classifer using the mfcc data\n",
    "#    2.1 Initialize your random forest classifer\n",
    "RFclf_mfcc = RandomForestClassifier(n_estimators=100, max_depth=2,random_state=1)\n",
    "\n",
    "#    2.2 Train you classifier\n",
    "RFclf_mfcc.fit(training_data_mfcc, training_class) \n",
    "\n",
    "# 3. Calculate the average classification performances for the training data\n",
    "\n",
    "prediction_proso_train = RFclf_proso.predict(training_data_proso)\n",
    "prediction_mfcc_train = RFclf_mfcc.predict(training_data_mfcc)\n",
    "mfcc_T = 0.\n",
    "proso_T = 0.\n",
    "for i in range(len(training_data_proso)):\n",
    "    if prediction_proso_train[i]==training_class[i]:\n",
    "        proso_T+=1  \n",
    "    if prediction_mfcc_train[i]==training_class[i]:\n",
    "        mfcc_T+=1\n",
    "acc_p_tr = proso_T/len(training_class)\n",
    "acc_m_tr = mfcc_T/len(training_class)\n",
    "\n",
    "\n",
    "# 4. Calculate the average classification performance for the testing data\n",
    "\n",
    "prediction_proso_test = RFclf_proso.predict(testing_data_proso)\n",
    "prediction_mfcc_test = RFclf_mfcc.predict(testing_data_mfcc)\n",
    "mfcc_E = 0.\n",
    "proso_E = 0.\n",
    "for i in range(len(testing_data_proso)):\n",
    "    if prediction_proso_test[i]==testing_class[i]:\n",
    "        proso_E+=1  \n",
    "    if prediction_mfcc_test[i]==testing_class[i]:\n",
    "        mfcc_E+=1\n",
    "acc_p_te = proso_E/len(testing_class)\n",
    "acc_m_te  = mfcc_E/len(testing_class)\n",
    "\n",
    "print acc_p_tr   # accuracy on the prosodic training data \n",
    "print acc_m_tr   # accuracy on the mfcc training data \n",
    "print acc_p_te   # accuracy on the prosodic testing data \n",
    "print acc_m_te   # accuracy on the mfcc testing data \n",
    "\n",
    "# 5. Print the confusion matrix\n",
    "\n",
    "conf_matrix_train_proso = confusion_matrix(training_class, prediction_proso_train)\n",
    "conf_matrix_train_mfcc = confusion_matrix(training_class, prediction_mfcc_train)\n",
    "conf_matrix_test_proso = confusion_matrix(testing_class, prediction_proso_test)\n",
    "conf_matrix_test_mfcc = confusion_matrix(testing_class, prediction_mfcc_test)\n",
    "\n",
    "print conf_matrix_train_proso,'\\n', conf_matrix_train_mfcc,'\\n', conf_matrix_test_proso,\\\n",
    "     '\\n', conf_matrix_test_mfcc"
   ]
  },
  {
   "cell_type": "markdown",
   "metadata": {},
   "source": [
    "### Task 2.3 Train and evaluate a Neural Network Classifier\n",
    "Please train a multi-layer perceptron for each of the Prosodic and MFCC feature using the [`sklearn.neural_network.MLPClassifier()`](http://scikit-learn.org/stable/modules/generated/sklearn.neural_network.MLPClassifier.html), and print the classification accuracies and confusion matrices."
   ]
  },
  {
   "cell_type": "code",
   "execution_count": 10,
   "metadata": {},
   "outputs": [
    {
     "name": "stdout",
     "output_type": "stream",
     "text": [
      "1.0\n",
      "1.0\n",
      "0.76\n",
      "0.86\n",
      "[[25  0]\n",
      " [ 0 25]] \n",
      "[[25  0]\n",
      " [ 0 25]] \n",
      "[[18  7]\n",
      " [ 5 20]] \n",
      "[[25  0]\n",
      " [ 7 18]]\n"
     ]
    }
   ],
   "source": [
    "from sklearn.neural_network import MLPClassifier\n",
    "from sklearn.metrics import confusion_matrix\n",
    "\n",
    "# 1. Train your classifier using the prodosic data\n",
    "#    1.1 Initialize your mlp classifer\n",
    "mlpClassifier_proso = MLPClassifier(solver='lbfgs', alpha=1e-4, hidden_layer_sizes=(50, 50, 50), random_state=1, max_iter=20000)\n",
    "\n",
    "#    1.2 Train you classifier\n",
    "mlpClassifier_proso.fit(training_data_proso, training_class) \n",
    "\n",
    "\n",
    "# 2. Train your classifer using the mfcc data\n",
    "#    2.1 Initialize your mlp classifer\n",
    "mlpClassifier_mfcc = MLPClassifier(solver='lbfgs', alpha=1e-4,  hidden_layer_sizes=(50, 50, 50), random_state=1, max_iter=20000)\n",
    "\n",
    "#    2.2 Train you classifier\n",
    "mlpClassifier_mfcc.fit(training_data_mfcc, training_class) \n",
    "\n",
    "\n",
    "# 3. Calculate the average classification performances for the training data\n",
    "\n",
    "prediction_proso_train = mlpClassifier_proso.predict(training_data_proso)\n",
    "prediction_mfcc_train = mlpClassifier_mfcc.predict(training_data_mfcc)\n",
    "mfcc_T = 0.\n",
    "proso_T = 0.\n",
    "for i in range(len(training_data_proso)):\n",
    "    if prediction_proso_train[i]==training_class[i]:\n",
    "        proso_T+=1  \n",
    "    if prediction_mfcc_train[i]==training_class[i]:\n",
    "        mfcc_T+=1\n",
    "acc_p_tr = proso_T/len(training_class)\n",
    "acc_m_tr = mfcc_T/len(training_class)\n",
    "\n",
    "\n",
    "# 4. Calculate the average classification performance for the testing data\n",
    "\n",
    "prediction_proso_test = mlpClassifier_proso.predict(testing_data_proso)\n",
    "prediction_mfcc_test = mlpClassifier_mfcc.predict(testing_data_mfcc)\n",
    "mfcc_E = 0.\n",
    "proso_E = 0.\n",
    "for i in range(len(testing_data_proso)):\n",
    "    if prediction_proso_test[i]==testing_class[i]:\n",
    "        proso_E+=1  \n",
    "    if prediction_mfcc_test[i]==testing_class[i]:\n",
    "        mfcc_E+=1\n",
    "acc_p_te = proso_E/len(testing_class)\n",
    "acc_m_te  = mfcc_E/len(testing_class)\n",
    "\n",
    "print acc_p_tr   # accuracy on the prosodic training data \n",
    "print acc_m_tr   # accuracy on the mfcc training data \n",
    "print acc_p_te   # accuracy on the prosodic testing data \n",
    "print acc_m_te   # accuracy on the mfcc testing data \n",
    "\n",
    "\n",
    "# 5. Print the confusion matrix\n",
    "\n",
    "conf_matrix_train_proso = confusion_matrix(training_class, prediction_proso_train)\n",
    "conf_matrix_train_mfcc = confusion_matrix(training_class, prediction_mfcc_train)\n",
    "conf_matrix_test_proso = confusion_matrix(testing_class, prediction_proso_test)\n",
    "conf_matrix_test_mfcc = confusion_matrix(testing_class, prediction_mfcc_test)\n",
    "\n",
    "print conf_matrix_train_proso,'\\n', conf_matrix_train_mfcc,'\\n', conf_matrix_test_proso,\\\n",
    "     '\\n', conf_matrix_test_mfcc"
   ]
  },
  {
   "cell_type": "markdown",
   "metadata": {},
   "source": [
    "## Task 3. (OPTIONAL) Speech Emotion Classification using SVM, Subject Independent\n",
    "Generate a person independent 10-fold cross-validation (CV) estimate of the emotion recognition system performance.\n",
    "* Join the training/testing data matrices and the class vectors. Combine also the ‘training_data_personID’ and ‘testing_data_personID’ vectors that are needed to make the CV folds.\n",
    "\n",
    "* Construct the CV folds by training ten SVMs. For each SVM nine persons’ data is used as the training set (i.e. 90 samples) and one persons’ samples are kept as the test set (i.e. 10 samples) for the respective fold (i.e. each SVM has different persons’ samples excluded from the training set). Test each ten trained SVMs by using the corresponding one held-out persons’ samples and then calculate the average classification performances for each fold.\n",
    "\n",
    "* Calculate the mean and SD of the ten CV fold performances to produce the final CV performance estimate of the emotion recognition system."
   ]
  },
  {
   "cell_type": "code",
   "execution_count": null,
   "metadata": {},
   "outputs": [],
   "source": [
    "\n"
   ]
  },
  {
   "cell_type": "code",
   "execution_count": null,
   "metadata": {},
   "outputs": [],
   "source": []
  },
  {
   "cell_type": "code",
   "execution_count": null,
   "metadata": {},
   "outputs": [],
   "source": []
  },
  {
   "cell_type": "code",
   "execution_count": null,
   "metadata": {},
   "outputs": [],
   "source": []
  },
  {
   "cell_type": "code",
   "execution_count": null,
   "metadata": {},
   "outputs": [],
   "source": []
  }
 ],
 "metadata": {
  "kernelspec": {
   "display_name": "Python 2",
   "language": "python",
   "name": "python2"
  },
  "language_info": {
   "codemirror_mode": {
    "name": "ipython",
    "version": 2
   },
   "file_extension": ".py",
   "mimetype": "text/x-python",
   "name": "python",
   "nbconvert_exporter": "python",
   "pygments_lexer": "ipython2",
   "version": "2.7.15"
  }
 },
 "nbformat": 4,
 "nbformat_minor": 2
}
